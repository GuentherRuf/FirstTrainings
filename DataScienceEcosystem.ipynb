{
 "cells": [
  {
   "cell_type": "markdown",
   "id": "d99a2d3c-9bcb-400a-a58f-009bfb1e6d57",
   "metadata": {},
   "source": [
    "<h1> Data Science Tools and Ecosystem </H1>"
   ]
  },
  {
   "cell_type": "markdown",
   "id": "fe8d2c80-1b51-42bd-8f26-8a436c54af3f",
   "metadata": {},
   "source": [
    "In this notebook, Data Science Tools and Ecosystem are summarized."
   ]
  },
  {
   "cell_type": "markdown",
   "id": "cec5abd7-cf3e-45db-ac54-4ff97bfbb4a0",
   "metadata": {},
   "source": [
    "Some of the popular languages that Data Scientists use are:\n",
    "    - R\n",
    "    - Python\n",
    "    - SQL"
   ]
  },
  {
   "cell_type": "markdown",
   "id": "3188a47b-2945-4c39-a05b-b5a0b1ce1895",
   "metadata": {},
   "source": [
    "Objectives:\n",
    "- learn how to use Jupyter\n",
    "- learn how get started with Python\n",
    "- lean how to use Github"
   ]
  },
  {
   "cell_type": "markdown",
   "id": "ec4121e0-586d-42c3-99f7-ce315aa95043",
   "metadata": {},
   "source": [
    "Some of the commonly used libraries used by Data Scientists include:\n",
    "    - Matplotlib\n",
    "    - Pandas\n",
    "    - SciPy\n",
    "    - PyTorch"
   ]
  },
  {
   "cell_type": "markdown",
   "id": "b8a1fff1-b369-496a-9c71-09928fee2506",
   "metadata": {},
   "source": [
    "| Data Science Tools |\n",
    "| :--- |\n",
    "| Apache Spark |\n",
    "| Tableou |\n",
    "| Power BI |\n"
   ]
  },
  {
   "cell_type": "markdown",
   "id": "4acbe6e6-1623-450a-92b0-dd9e6c291f20",
   "metadata": {
    "tags": []
   },
   "source": [
    "### Below are a few examples of evaluating arithmetic expressions in Python ###"
   ]
  },
  {
   "cell_type": "markdown",
   "id": "631fea3b-17f1-47a6-a97b-c12a4de9bee1",
   "metadata": {},
   "source": [
    "This a simple arithmetic expression to mutiply then add integers"
   ]
  },
  {
   "cell_type": "code",
   "execution_count": 2,
   "id": "3dec8d1d-dbc7-4e6f-aba2-07d15db9773e",
   "metadata": {
    "tags": []
   },
   "outputs": [
    {
     "data": {
      "text/plain": [
       "17"
      ]
     },
     "execution_count": 2,
     "metadata": {},
     "output_type": "execute_result"
    }
   ],
   "source": [
    "(3*4)+5"
   ]
  },
  {
   "cell_type": "markdown",
   "id": "c9e4413a-bb38-4488-9cb9-0eabbc9c0404",
   "metadata": {},
   "source": [
    "This will convert 200 minutes to hours by diving by 60"
   ]
  },
  {
   "cell_type": "code",
   "execution_count": 5,
   "id": "5b740fe6-00a7-4ef3-8437-ef7ddb3f380b",
   "metadata": {
    "tags": []
   },
   "outputs": [
    {
     "name": "stdout",
     "output_type": "stream",
     "text": [
      "200  are  3.3333333333333335 hours\n"
     ]
    }
   ],
   "source": [
    "minutes=200\n",
    "minutes_per_hour=60\n",
    "hours=minutes/minutes_per_hour\n",
    "print (minutes, \" are \", hours, \"hours\")"
   ]
  },
  {
   "cell_type": "markdown",
   "id": "0df7520d-6b08-4a2f-b545-049dc20f8a73",
   "metadata": {},
   "source": [
    "## Author ##\n",
    "Guenther Ruf\n"
   ]
  },
  {
   "cell_type": "code",
   "execution_count": null,
   "id": "ba36ff97-8105-4035-bd25-ec553ec4fabc",
   "metadata": {},
   "outputs": [],
   "source": []
  }
 ],
 "metadata": {
  "kernelspec": {
   "display_name": "Python",
   "language": "python",
   "name": "conda-env-python-py"
  },
  "language_info": {
   "codemirror_mode": {
    "name": "ipython",
    "version": 3
   },
   "file_extension": ".py",
   "mimetype": "text/x-python",
   "name": "python",
   "nbconvert_exporter": "python",
   "pygments_lexer": "ipython3",
   "version": "3.7.12"
  }
 },
 "nbformat": 4,
 "nbformat_minor": 5
}
